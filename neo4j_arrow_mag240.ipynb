{
 "cells": [
  {
   "cell_type": "markdown",
   "id": "34ecae04-d953-4dda-91db-df171ce71626",
   "metadata": {},
   "source": [
    "![image.png](./mag_schema.png)"
   ]
  },
  {
   "cell_type": "code",
   "execution_count": 1,
   "id": "61d06423-5ec6-43b9-bd56-108604491170",
   "metadata": {},
   "outputs": [],
   "source": [
    "%%capture\n",
    "%pip install google-cloud-bigquery-storage pyarrow"
   ]
  },
  {
   "cell_type": "code",
   "execution_count": 2,
   "id": "14b3b0de-0a0f-49a7-bca7-11940955d7d4",
   "metadata": {},
   "outputs": [],
   "source": [
    "from itertools import chain\n",
    "\n",
    "import neo4j_arrow as na\n",
    "import neo4j_bq as bq"
   ]
  },
  {
   "cell_type": "markdown",
   "id": "652f3590-c1ed-448c-a26e-7ec3bcae0c4e",
   "metadata": {},
   "source": [
    "## Setting up our BigQuery Integration\n",
    "\n",
    "BigQuery already natively supports reading tables as streams of PyArrow Tables.\n",
    "We just need to use the _Storage API_!\n",
    "\n",
    "Our BigQuery dataset includes tables for the nodes and tables for the edges of\n",
    "our graph. We'll define the schema using Python dictionaries so our loader\n",
    "knows things like which table field is the node key and which fields define\n",
    "the source/target node ids for the edges."
   ]
  },
  {
   "cell_type": "code",
   "execution_count": 3,
   "id": "e3a106d9-9a77-4990-b744-2b4c68eff408",
   "metadata": {},
   "outputs": [
    {
     "name": "stdout",
     "output_type": "stream",
     "text": [
      "Prepared 1,549 BigQuery streams for ingestion\n"
     ]
    }
   ],
   "source": [
    "mag240m = bq.BigQuerySource(\"neo4jgraphconnectdemo2022\", \"ogb_mag240m\")\n",
    "\n",
    "nodes = [\n",
    "    { \"key\": \"paper\", \"streams\": mag240m.table(\"papers\") },\n",
    "    { \"key\": \"author\", \"streams\": mag240m.table(\"authors_heterogenous\") },\n",
    "    { \"key\": \"institution\", \"streams\": mag240m.table(\"institution_heterogenous\") },\n",
    "]\n",
    "\n",
    "edges = [\n",
    "    {\n",
    "        \"src\": \"source\", \"dst\": \"target\", \"type\": \"type\",\n",
    "        \"streams\": mag240m.table(\"citations\"),\n",
    "    },\n",
    "    {\n",
    "        \"src\": \"author\", \"dst\": \"paper\", \"type\": \"type\",\n",
    "        \"streams\": mag240m.table(\"authorship\"), \n",
    "    },\n",
    "    {\n",
    "        \"src\": \"author\", \"dst\": \"institution\" , \"type\": \"type\",\n",
    "        \"streams\": mag240m.table(\"affiliation\"), \n",
    "    },\n",
    "]\n",
    "\n",
    "# Just count up the number of BigQuery streams so we know what we're up against\n",
    "stream_cnt = sum([\n",
    "    len(list(x)) for x in chain(\n",
    "        map(chain, [n[\"streams\"] for n in nodes]),\n",
    "        map(chain, [e[\"streams\"] for e in edges])\n",
    "    )\n",
    "])\n",
    "print(f\"Prepared {stream_cnt:,} BigQuery streams for ingestion\")"
   ]
  },
  {
   "cell_type": "markdown",
   "id": "efbae41b-a60e-4697-8890-dae8d9482351",
   "metadata": {},
   "source": [
    "## Ingestion\n",
    "\n",
    "We build little work tasks for our worker pool.\n",
    "\n",
    "Each task contains the BigQuery stream url as well as schema details."
   ]
  },
  {
   "cell_type": "code",
   "execution_count": 4,
   "id": "a060392f-5205-4967-b4a1-a1826dc8001d",
   "metadata": {},
   "outputs": [
    {
     "data": {
      "text/plain": [
       "(201, 1348)"
      ]
     },
     "execution_count": 4,
     "metadata": {},
     "output_type": "execute_result"
    }
   ],
   "source": [
    "node_work = bq.flatten(nodes, bq.streams_from)\n",
    "edge_work = bq.flatten(edges, bq.streams_from)\n",
    "\n",
    "len(node_work), len(edge_work)"
   ]
  },
  {
   "cell_type": "markdown",
   "id": "c52c736d-de9a-46dd-9941-55effa458c2d",
   "metadata": {},
   "source": [
    "We'll load our super secret password from a local file and configure our Neo4j\n",
    "Arrow Connector. Here we just point at our Neo4j server and give our (soon to\n",
    "be created) graph a name."
   ]
  },
  {
   "cell_type": "code",
   "execution_count": 5,
   "id": "819c6b3b-8d46-472c-a11f-9c28bf1dab49",
   "metadata": {},
   "outputs": [
    {
     "name": "stdout",
     "output_type": "stream",
     "text": [
      "Created Neo4jArrowClient{neo4j@demo2.graphconnect.app:8491/gcdemo}\n"
     ]
    }
   ],
   "source": [
    "with open('pass.txt', mode='r') as f:\n",
    "    password = f.readline().strip()\n",
    "\n",
    "client = na.Neo4jArrowClient('demo2.graphconnect.app', password=password, concurrency=224)\n",
    "\n",
    "print(f\"Created {client}\")"
   ]
  },
  {
   "cell_type": "markdown",
   "id": "af9e3dba-c18c-49f1-b13a-d4025739dd79",
   "metadata": {
    "tags": []
   },
   "source": [
    "### Let's Build the Graph!\n",
    "\n",
    "Now that we have our `Neo4jArrowClient` and our `BigQuerySource`, we can\n",
    "orchestrate our graph load.\n",
    "\n",
    "![image.png](./arrow_flow.png)"
   ]
  },
  {
   "cell_type": "markdown",
   "id": "c2d0d195-3595-468f-b92c-d3cb1a78760c",
   "metadata": {},
   "source": [
    "#### 1. Start!\n",
    "We send our `CREATE_GRAPH` signal, letting Neo4j know we are beginning our load."
   ]
  },
  {
   "cell_type": "code",
   "execution_count": 6,
   "id": "0d75e823-fe95-49a1-86d7-2d05663b5531",
   "metadata": {},
   "outputs": [
    {
     "name": "stdout",
     "output_type": "stream",
     "text": [
      "✅ Ready to load nodes for gcdemo\n"
     ]
    }
   ],
   "source": [
    "msg = client.start()\n",
    "print(f\"✅ Ready to load nodes for {msg['name']}\")"
   ]
  },
  {
   "cell_type": "markdown",
   "id": "254018f7-c048-4358-ad3e-f0f497dbdd34",
   "metadata": {},
   "source": [
    "#### 2a. Send our Nodes!\n",
    "We can send data in parallel to speed up ingestion so we'll fan out the node\n",
    "streams to numerous workers processes.\n",
    "\n",
    "Each worker will receive a copy of the `Neo4jArrowClient` config use it to\n",
    "stream data to the Neo4j graph."
   ]
  },
  {
   "cell_type": "code",
   "execution_count": 7,
   "id": "016d609d-e189-4368-ae87-0f40600f3765",
   "metadata": {},
   "outputs": [
    {
     "name": "stderr",
     "output_type": "stream",
     "text": [
      "Using: 🚀 Neo4jArrowClient{neo4j@demo2.graphconnect.app:8491/gcdemo}\n",
      "Spawning 83 workers 🧑‍🏭 to process 201 tasks 📋\n",
      "⚙️ Loading: [➶➶➶➶➶➶➶➶➶➶➶➶➶➶➶➶➶➶➶➶➶➶➶➶➶➶➶➶➶➶➶➶➶➶➶]\n"
     ]
    },
    {
     "name": "stdout",
     "output_type": "stream",
     "text": [
      "Sent: 244,160,499 nodes in 12.12s (~20,138,399 nodes/s, ~489 MiB/s)\n"
     ]
    },
    {
     "name": "stderr",
     "output_type": "stream",
     "text": [
      "🏁 Completed in 12.12s\n"
     ]
    }
   ],
   "source": [
    "node_results, timing = bq.fan_out(client, node_work)\n",
    "\n",
    "total_nodes = sum([x[\"rows\"] for x in node_results])\n",
    "total_bytes = sum([x[\"bytes\"] for x in node_results])\n",
    "\n",
    "node_rate = int(total_nodes / timing)\n",
    "data_rate = int(total_bytes / timing) >> 20\n",
    "print(f\"Sent: {total_nodes:,} nodes in {round(timing, 2)}s (~{node_rate:,} nodes/s, ~{data_rate} MiB/s)\")"
   ]
  },
  {
   "cell_type": "markdown",
   "id": "d6423151-6cda-40d9-9107-c9b678d4a817",
   "metadata": {},
   "source": [
    "#### 2b. Signal Nodes are Done!\n",
    "We can now let Neo4j know we're done streaming nodes before moving onto edges."
   ]
  },
  {
   "cell_type": "code",
   "execution_count": 8,
   "id": "b1f94474-8df2-42ea-b2b5-3cb75853a25a",
   "metadata": {},
   "outputs": [
    {
     "name": "stdout",
     "output_type": "stream",
     "text": [
      "Signalling we're done loading nodes...\n",
      "\n",
      "✅ Loaded 244,160,499 nodes. Ready for edges!\n"
     ]
    }
   ],
   "source": [
    "print(\"Signalling we're done loading nodes...\\n\")\n",
    "msg = client.nodes_done()\n",
    "print(f\"✅ Loaded {msg['node_count']:,} nodes. Ready for edges!\")"
   ]
  },
  {
   "cell_type": "markdown",
   "id": "262dd3c3-4fb5-484a-8187-1d02c5e3d595",
   "metadata": {},
   "source": [
    "#### 3a. Feed Edges\n",
    "Time to stream the edges! Just like before, fan out the workload across a pool\n",
    "of worker processes."
   ]
  },
  {
   "cell_type": "code",
   "execution_count": 9,
   "id": "553357ea-87ba-4033-b0c6-8a030a1bbce3",
   "metadata": {},
   "outputs": [
    {
     "name": "stderr",
     "output_type": "stream",
     "text": [
      "Using: 🚀 Neo4jArrowClient{neo4j@demo2.graphconnect.app:8491/gcdemo}\n",
      "Spawning 83 workers 🧑‍🏭 to process 1,348 tasks 📋\n",
      "⚙️ Loading: [➶➶➶➶➶➶➶➶➶➶➶➶➶➶➶➶➶➶➶➶➶➶➶➶➶➶➶➶➶➶➶➶➶➶➶]\n"
     ]
    },
    {
     "name": "stdout",
     "output_type": "stream",
     "text": [
      "Sent: 1,728,364,232 edges in 55.97s (~30,878,751 edges/s, ~763 MiB/s)\n"
     ]
    },
    {
     "name": "stderr",
     "output_type": "stream",
     "text": [
      "🏁 Completed in 55.97s\n"
     ]
    }
   ],
   "source": [
    "edge_results, timing = bq.fan_out(client, edge_work)\n",
    "        \n",
    "total_edges = sum([x[\"rows\"] for x in edge_results])\n",
    "total_bytes = sum([x[\"bytes\"] for x in edge_results])\n",
    "\n",
    "edge_rate = int(total_edges / timing)\n",
    "data_rate = int(total_bytes / timing) >> 20\n",
    "print(f\"Sent: {total_edges:,} edges in {round(timing, 2)}s (~{edge_rate:,} edges/s, ~{data_rate} MiB/s)\")"
   ]
  },
  {
   "cell_type": "markdown",
   "id": "dd0db6e5-6a3d-4d66-a38d-a783661a87ed",
   "metadata": {},
   "source": [
    "#### 3b. And We're Done!\n",
    "Signalling we're finished loading edges lets Neo4j know it's safe to expose the\n",
    "graph in the graph catalog."
   ]
  },
  {
   "cell_type": "code",
   "execution_count": 10,
   "id": "0bd472ab-a4e1-4d1c-beb4-3d962ef08194",
   "metadata": {},
   "outputs": [
    {
     "name": "stdout",
     "output_type": "stream",
     "text": [
      "Awaiting graph creation...\n",
      "\n",
      "✅ Loaded 1,728,364,232 edges.\n",
      "😁 Happy Graphing! 🥳\n"
     ]
    }
   ],
   "source": [
    "print(\"Awaiting graph creation...\\n\")\n",
    "msg = client.edges_done()\n",
    "\n",
    "print(f\"✅ Loaded {msg['relationship_count']:,} edges.\")\n",
    "print(\"😁 Happy Graphing! 🥳\")"
   ]
  }
 ],
 "metadata": {
  "environment": {
   "kernel": "python3",
   "name": "common-cpu.m92",
   "type": "gcloud",
   "uri": "gcr.io/deeplearning-platform-release/base-cpu:m92"
  },
  "kernelspec": {
   "display_name": "Python 3",
   "language": "python",
   "name": "python3"
  },
  "language_info": {
   "codemirror_mode": {
    "name": "ipython",
    "version": 3
   },
   "file_extension": ".py",
   "mimetype": "text/x-python",
   "name": "python",
   "nbconvert_exporter": "python",
   "pygments_lexer": "ipython3",
   "version": "3.7.12"
  }
 },
 "nbformat": 4,
 "nbformat_minor": 5
}
