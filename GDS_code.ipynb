{
 "cells": [
  {
   "cell_type": "markdown",
   "id": "e0b83a7e-b90e-4845-a372-4a6bcd1dd86a",
   "metadata": {},
   "source": [
    "# Graph Data Science Demo\n",
    "\n",
    "Now that we've created our *huge* (1.7B relationships! 244M nodes!) graph projections, let's do some data science.\n",
    "\n",
    "The point of this demo is to show that enterprise graph data science is simple, fast, and easy using GDS. We're going to take our citation network dataset and build up a quick recommendations workflow by (1) paring it down to the relevant data, (2) calculating a graph embedding to encode all the relevant topological data for each node in our graph, and then (3) building up a nearest neighbors graph - based on those embeddings - so we can find out which papers are similar based on the structure of the graph.\n",
    "\n",
    "In the real world, you might use that similarity graph as an alternative to traditional collaborative filtering methods. It's more scalable and flexible, and can look beyond one hop relationships. For this demo, we'll build up our graph and then take a peak at the results in bloom."
   ]
  },
  {
   "cell_type": "markdown",
   "id": "3b5819d4-02b3-4508-b316-30a6b95957ed",
   "metadata": {},
   "source": [
    "### Set up & Initialization"
   ]
  },
  {
   "cell_type": "code",
   "execution_count": 1,
   "id": "14092fe3-3c13-40e8-8a05-fbeeedb329ff",
   "metadata": {},
   "outputs": [],
   "source": [
    "%%capture\n",
    "pip install graphdatascience==1.1.0rc1 ipywidgets jupyter"
   ]
  },
  {
   "cell_type": "code",
   "execution_count": 2,
   "id": "d9fd3b8d-9130-4290-8664-97d8f9788c0a",
   "metadata": {},
   "outputs": [],
   "source": [
    "# Client import\n",
    "from graphdatascience import GraphDataScience\n",
    "\n",
    "# Replace with the actual URI, username and password\n",
    "CONNECTION_URI = \"neo4j+s://demo2.graphconnect.app:7687\"\n",
    "USERNAME = \"neo4j\"\n",
    "with open('pass.txt', mode='r') as f:\n",
    "    PASSWORD = f.readline().strip()\n",
    "\n",
    "# Client instantiation\n",
    "gds = GraphDataScience(\n",
    "    CONNECTION_URI,\n",
    "    auth=(USERNAME, PASSWORD)\n",
    ")"
   ]
  },
  {
   "cell_type": "markdown",
   "id": "faa15871-32b5-4cbd-96dd-95243b2778f3",
   "metadata": {},
   "source": [
    "### Bind the graph projection to a graph object \n",
    "The GDS Python Client works with graph objects in Python. If we were constructing the graph from a neo4j database (or a pandas dataframe), that would automatically return a graph object. Since we're using the graph that we just created with custom Arrow import code, we need to assign it to a graph object using `get`"
   ]
  },
  {
   "cell_type": "code",
   "execution_count": 3,
   "id": "a29366b9-c0d3-4b6e-9f15-84c446434d25",
   "metadata": {},
   "outputs": [],
   "source": [
    "G=gds.graph.get(\"gcdemo\")"
   ]
  },
  {
   "cell_type": "markdown",
   "id": "ce052885-398d-4131-b892-384d9a48f9f7",
   "metadata": {},
   "source": [
    "### Filter the demo graph down to a smaller graph \n",
    "\n",
    "Since this is a **10 minute, live demo** we want to keep it interesting - not have everyone sitting around watching code run. We're going to start with a workflow to cut down our full graph into something more manageable. "
   ]
  },
  {
   "cell_type": "markdown",
   "id": "59878f27-9ad3-4290-bfd3-8cf7983463dc",
   "metadata": {},
   "source": [
    "We'll start by adding degree centrality to our graph, so we know how many relationships each node has. We can then use that to filter out nodes that are too densely connected, as well as orphan nodes."
   ]
  },
  {
   "cell_type": "code",
   "execution_count": 4,
   "id": "dad4193e-df8f-4372-8c9b-5845bfa03e1a",
   "metadata": {},
   "outputs": [
    {
     "data": {
      "text/plain": [
       "nodePropertiesWritten                                             244160499\n",
       "centralityDistribution    {'p99': 78.00048065185547, 'min': 0.0, 'max': ...\n",
       "mutateMillis                                                              0\n",
       "postProcessingMillis                                                   1377\n",
       "preProcessingMillis                                                       0\n",
       "computeMillis                                                             1\n",
       "configuration             {'jobId': 'a898239d-cfe9-45c9-8461-f2421b850c9...\n",
       "Name: 0, dtype: object"
      ]
     },
     "execution_count": 4,
     "metadata": {},
     "output_type": "execute_result"
    }
   ],
   "source": [
    "result = gds.degree.mutate(\n",
    "    G, \n",
    "    concurrency=224,\n",
    "    mutateProperty=\"degree\"\n",
    ")\n",
    "\n",
    "result"
   ]
  },
  {
   "cell_type": "markdown",
   "id": "e1e76ddd-21aa-4b4e-8c77-1ab820f28d14",
   "metadata": {},
   "source": [
    "Now, we can use a subgraph projection to create a new analysis graph, that only contains the `Paper` nodes with `CITES` relationships, f and removes dense nodes (degree > 25) and orphans (degree = 0) who won't be informative for our analysis. We're also going to drop unlabeled papers, because they're missing information."
   ]
  },
  {
   "cell_type": "code",
   "execution_count": 5,
   "id": "07202bc1-a315-4a4d-b2cf-6724fc949d23",
   "metadata": {},
   "outputs": [
    {
     "data": {
      "text/plain": [
       "fromGraphName                                                    gcdemo\n",
       "nodeFilter            n:Paper AND (n.degree < 26.0 AND n.degree > 0....\n",
       "relationshipFilter                                              r:CITES\n",
       "graphName                                                analysis_graph\n",
       "nodeCount                                                        655087\n",
       "relationshipCount                                                439868\n",
       "projectMillis                                                     12608\n",
       "Name: 0, dtype: object"
      ]
     },
     "execution_count": 5,
     "metadata": {},
     "output_type": "execute_result"
    }
   ],
   "source": [
    "analysis_graph, res = gds.beta.graph.project.subgraph(\n",
    "  'analysis_graph',\n",
    "  G,\n",
    "  'n:Paper AND (n.degree < 26.0 AND n.degree > 0.0) AND (n.flag >= 0) AND (n.flag >= 0)',\n",
    "  'r:CITES',\n",
    "  concurrency=224\n",
    ")\n",
    "\n",
    "res"
   ]
  },
  {
   "cell_type": "markdown",
   "id": "7081a89f-ca11-471a-b468-1970628c9358",
   "metadata": {},
   "source": [
    "### Recommendation Recipe\n",
    "\n",
    "The point of this demo is that it's easy to do graph data science, at scale, and solve real tasks. What we're going to do here is build a simple recommendation engine, based on the topology of our citation network. The first step is to calculate a graph embedding - that will encode all the complex information about our graph into a bunch of (informative) numbers. Then we'll build a nearest neighbors graph using KNN. The nearest neighbors graph connects papers that are similar to eachother, based on the structure of the citation network. KNN is an *approximate* method, so it scales very well. \n",
    "\n",
    "In the real world, you would use your new `SIMILAR` relationships to power recommendations - when someone read a paper, you could recommend a similar paper, based on your calculations. In this demo, we'll export our data and take a look at the results in Bloom."
   ]
  },
  {
   "cell_type": "code",
   "execution_count": 6,
   "id": "5f61b73c-5954-4179-baad-fe92cee47173",
   "metadata": {},
   "outputs": [
    {
     "data": {
      "text/plain": [
       "nodePropertiesWritten                                               655087\n",
       "mutateMillis                                                             0\n",
       "nodeCount                                                           655087\n",
       "preProcessingMillis                                                      0\n",
       "computeMillis                                                          307\n",
       "configuration            {'nodeSelfInfluence': 0, 'relationshipWeightPr...\n",
       "Name: 0, dtype: object"
      ]
     },
     "execution_count": 6,
     "metadata": {},
     "output_type": "execute_result"
    }
   ],
   "source": [
    "res=gds.fastRP.mutate(\n",
    "    analysis_graph,\n",
    "    embeddingDimension=25,\n",
    "    concurrency=224,\n",
    "    mutateProperty=\"fastRP_embedding\"\n",
    ")\n",
    "\n",
    "res"
   ]
  },
  {
   "cell_type": "code",
   "execution_count": 7,
   "id": "f46e68b0-f834-40ab-acae-026d52e3172d",
   "metadata": {},
   "outputs": [
    {
     "data": {
      "application/vnd.jupyter.widget-view+json": {
       "model_id": "81f56b1cdb6d4c87a9f466fdb6732a17",
       "version_major": 2,
       "version_minor": 0
      },
      "text/plain": [
       "Knn:   0%|          | 0/100 [00:00<?, ?%/s]"
      ]
     },
     "metadata": {},
     "output_type": "display_data"
    },
    {
     "data": {
      "text/plain": [
       "ranIterations                                                            20\n",
       "nodePairsConsidered                                                84256942\n",
       "didConverge                                                            True\n",
       "preProcessingMillis                                                       0\n",
       "computeMillis                                                         14205\n",
       "mutateMillis                                                            637\n",
       "postProcessingMillis                                                     -1\n",
       "nodesCompared                                                        655087\n",
       "relationshipsWritten                                                 436276\n",
       "similarityDistribution    {'p1': 0.6199989318847656, 'max': 1.0000038146...\n",
       "configuration             {'topK': 3, 'maxIterations': 100, 'randomJoins...\n",
       "Name: 0, dtype: object"
      ]
     },
     "execution_count": 7,
     "metadata": {},
     "output_type": "execute_result"
    }
   ],
   "source": [
    "res=gds.knn.mutate(\n",
    "    analysis_graph,\n",
    "    topK=3,\n",
    "    similarityCutoff=0.6,\n",
    "    sampleRate=0.25,\n",
    "    randomJoins=5,\n",
    "    deltaThreshold=0.01,\n",
    "    initialSampler=\"randomWalk\",\n",
    "    concurrency=224,\n",
    "    nodeProperties=\"fastRP_embedding\",\n",
    "    mutateProperty=\"score\",\n",
    "    mutateRelationshipType='SIMILAR'\n",
    ")\n",
    "\n",
    "res"
   ]
  },
  {
   "cell_type": "markdown",
   "id": "3d945d7c-3743-41f1-ad4e-210aa28f48d0",
   "metadata": {},
   "source": [
    "That's **84 million** comparisons!\n",
    "\n",
    "We can now persist it as a new Neo4j database using `gds.graph.export`."
   ]
  },
  {
   "cell_type": "code",
   "execution_count": 8,
   "id": "e6f69c6b-6a98-4ba7-b985-8c34b820b159",
   "metadata": {},
   "outputs": [
    {
     "data": {
      "text/plain": [
       "dbName                       demo.database.1654534431\n",
       "graphName                              analysis_graph\n",
       "nodeCount                                      655087\n",
       "relationshipCount                              876144\n",
       "relationshipTypeCount                               2\n",
       "nodePropertyCount                             2620348\n",
       "relationshipPropertyCount                      436276\n",
       "writeMillis                                      4164\n",
       "Name: 0, dtype: object"
      ]
     },
     "execution_count": 8,
     "metadata": {},
     "output_type": "execute_result"
    }
   ],
   "source": [
    "from time import time\n",
    "\n",
    "res=gds.graph.export(\n",
    "    analysis_graph,\n",
    "    dbName=f\"demo.Database.{int(time())}\",\n",
    "    writeConcurrency=224\n",
    ")\n",
    "\n",
    "res"
   ]
  }
 ],
 "metadata": {
  "environment": {
   "kernel": "python3",
   "name": "common-cpu.m92",
   "type": "gcloud",
   "uri": "gcr.io/deeplearning-platform-release/base-cpu:m92"
  },
  "kernelspec": {
   "display_name": "Python 3",
   "language": "python",
   "name": "python3"
  },
  "language_info": {
   "codemirror_mode": {
    "name": "ipython",
    "version": 3
   },
   "file_extension": ".py",
   "mimetype": "text/x-python",
   "name": "python",
   "nbconvert_exporter": "python",
   "pygments_lexer": "ipython3",
   "version": "3.7.12"
  }
 },
 "nbformat": 4,
 "nbformat_minor": 5
}
